{
 "metadata": {
  "language_info": {
   "codemirror_mode": {
    "name": "ipython",
    "version": 3
   },
   "file_extension": ".py",
   "mimetype": "text/x-python",
   "name": "python",
   "nbconvert_exporter": "python",
   "pygments_lexer": "ipython3",
   "version": "3.8.5-final"
  },
  "orig_nbformat": 2,
  "kernelspec": {
   "name": "python3",
   "display_name": "Python 3"
  }
 },
 "nbformat": 4,
 "nbformat_minor": 2,
 "cells": [
  {
   "source": [
    "# _Forecasting Coronavirus_:\n",
    "## Developing a Time-Invariant model to predict outbreaks or subsidiences of COVID-19 in the United States\n",
    "---\n",
    "### Arjun Viswanathan  \n",
    "arjunvis@usc.edu"
   ],
   "cell_type": "markdown",
   "metadata": {}
  },
  {
   "source": [
    "# TODO: Data Ingestion"
   ],
   "cell_type": "markdown",
   "metadata": {}
  },
  {
   "source": [
    "- COVID-19 Data (New York Times)\n",
    "- Daily Weather Data (NOAA)"
   ],
   "cell_type": "markdown",
   "metadata": {}
  },
  {
   "source": [
    "# TODO: Initial Data Pre-Processing"
   ],
   "cell_type": "markdown",
   "metadata": {}
  },
  {
   "source": [
    "- Process COVID-19 data by county\n",
    "- Process weather data\n",
    "    - Get stations in each county\n",
    "    - Average station values by day across each county\n",
    "- Join COVID-19 and weather data on county name / FIPS code"
   ],
   "cell_type": "markdown",
   "metadata": {}
  },
  {
   "source": [
    "# TODO: Initial Data Visualization and Overview"
   ],
   "cell_type": "markdown",
   "metadata": {}
  },
  {
   "source": [
    "- Map correlation matrix across features\n",
    "- Map feature completeness\n",
    "- __(MAYBE)__ Map features across United States\n",
    "    - Need some geographical mapping library\n",
    "    - Need to map FIPS code to map region"
   ],
   "cell_type": "markdown",
   "metadata": {}
  },
  {
   "source": [
    "# TODO: Further Data Pre-Processing"
   ],
   "cell_type": "markdown",
   "metadata": {}
  },
  {
   "source": [
    "- Deal with missing data\n",
    "- __(MAYBE)__ Initial feature Selection "
   ],
   "cell_type": "markdown",
   "metadata": {}
  },
  {
   "source": [
    "# TODO: Model Selection"
   ],
   "cell_type": "markdown",
   "metadata": {}
  },
  {
   "source": [
    "- Need to figure out some models to use here\n",
    "    - Gradient Boosting Trees?\n",
    "    - CART?\n",
    "    - Logistic Regression?\n",
    "    - Perceptron?"
   ],
   "cell_type": "markdown",
   "metadata": {}
  },
  {
   "source": [
    "# TODO: Model Training"
   ],
   "cell_type": "markdown",
   "metadata": {}
  },
  {
   "source": [
    "# TODO: Model Evaluation"
   ],
   "cell_type": "markdown",
   "metadata": {}
  }
 ]
}